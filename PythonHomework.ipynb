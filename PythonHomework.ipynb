{
 "cells": [
  {
   "cell_type": "markdown",
   "metadata": {},
   "source": [
    "1.-Define a function that can convert a integer into a string and print it\n",
    "in console.\n",
    "Hints:\n",
    "Use str() to convert a number to string."
   ]
  },
  {
   "cell_type": "code",
   "execution_count": 8,
   "metadata": {
    "collapsed": false
   },
   "outputs": [
    {
     "name": "stdout",
     "output_type": "stream",
     "text": [
      "190000\n"
     ]
    }
   ],
   "source": [
    "def inttoString(number):\n",
    "    string = str(number)\n",
    "    print string\n",
    "\n",
    "inttoString(190000)"
   ]
  },
  {
   "cell_type": "markdown",
   "metadata": {},
   "source": [
    "2. Define a function that can receive two integral numbers in string form\n",
    "and compute their sum and then print it in console.\n",
    "Hints:\n",
    "Use int() to convert a string to integer."
   ]
  },
  {
   "cell_type": "code",
   "execution_count": 11,
   "metadata": {
    "collapsed": false
   },
   "outputs": [
    {
     "name": "stdout",
     "output_type": "stream",
     "text": [
      "50\n"
     ]
    }
   ],
   "source": [
    "def addStrings( string1 , string2 ):\n",
    "    number1 = int(string1)\n",
    "    number2 = int(string2)\n",
    "    print number1 + number2\n",
    "\n",
    "addStrings(\"20\",\"30\")"
   ]
  },
  {
   "cell_type": "markdown",
   "metadata": {},
   "source": [
    "3. Define a function that can accept two strings as input and concatenate\n",
    "them and then print it in console.\n",
    "Hints:\n",
    "Use + to concatenate the strings"
   ]
  },
  {
   "cell_type": "code",
   "execution_count": 14,
   "metadata": {
    "collapsed": false
   },
   "outputs": [
    {
     "name": "stdout",
     "output_type": "stream",
     "text": [
      "Hola muchachos\n"
     ]
    }
   ],
   "source": [
    "def stringConcatenate( string1, string2 ):\n",
    "    print string1 + string2\n",
    "stringConcatenate(\"Hola\",\" muchachos\")    "
   ]
  },
  {
   "cell_type": "markdown",
   "metadata": {},
   "source": [
    "4. Define a function that can accept two strings as input and print the\n",
    "string with maximum length in console. If two strings have the same\n",
    "length, then the function should print al l strings line by line.\n",
    "Hints:\n",
    "Use len() function to get the length of a string"
   ]
  },
  {
   "cell_type": "code",
   "execution_count": 17,
   "metadata": {
    "collapsed": false
   },
   "outputs": [
    {
     "name": "stdout",
     "output_type": "stream",
     "text": [
      "Woloolooooooo\n"
     ]
    }
   ],
   "source": [
    "def stringPrintLongest(string1 , string2):\n",
    "    if len(string1) > len(string2):\n",
    "        print string1\n",
    "    elif len(string1) < len(string2):\n",
    "        print string2\n",
    "    else:\n",
    "        print string1\n",
    "        print string2\n",
    "        \n",
    "stringPrintLongest(\"such\",\"Woloolooooooo\")"
   ]
  },
  {
   "cell_type": "markdown",
   "metadata": {},
   "source": [
    "5. Define a function that can accept an integer number as input and print\n",
    "the ”It is an even number” if the number is even, otherwise print ”It\n",
    "is an odd number”.\n",
    "Hints:\n",
    "Use % operator to check if a number is even or odd."
   ]
  },
  {
   "cell_type": "code",
   "execution_count": 20,
   "metadata": {
    "collapsed": false
   },
   "outputs": [
    {
     "name": "stdout",
     "output_type": "stream",
     "text": [
      "It is an odd number\n"
     ]
    }
   ],
   "source": [
    "def evenOrOdd(number):\n",
    "    if number % 2 == 0:\n",
    "        print \"It is an even number\"\n",
    "    else:\n",
    "        print \"It is an odd number\"\n",
    "        \n",
    "evenOrOdd(1)\n"
   ]
  },
  {
   "cell_type": "markdown",
   "metadata": {},
   "source": [
    "6. Write a program which accepts a string as input to print ”Yes” if the\n",
    "string is ”yes” or ”YES” or ”Yes”, otherwise print ”No”.\n",
    "Hints:\n",
    "Use if statement to judge condition."
   ]
  },
  {
   "cell_type": "code",
   "execution_count": 25,
   "metadata": {
    "collapsed": false
   },
   "outputs": [
    {
     "name": "stdout",
     "output_type": "stream",
     "text": [
      "No\n"
     ]
    }
   ],
   "source": [
    "def isYes(string):\n",
    "    if string == \"yes\" or string == \"Yes\" or string == \"YES\":\n",
    "        print \"Yes\"\n",
    "    else :\n",
    "        print \"No\"\n",
    "\n",
    "isYes(\"yeS\")"
   ]
  },
  {
   "cell_type": "markdown",
   "metadata": {},
   "source": [
    "7. Write a program which can filter even numbers in a list by using filter\n",
    "function. The list is: [1,2,3,4,5,6,7,8,9,10].\n",
    "Hints:\n",
    "Use filter() to filter some elements in a list.\n",
    "Use lambda to define anonymous functions."
   ]
  },
  {
   "cell_type": "code",
   "execution_count": 33,
   "metadata": {
    "collapsed": false
   },
   "outputs": [
    {
     "data": {
      "text/plain": [
       "[2, 4, 6, 8, 10]"
      ]
     },
     "execution_count": 33,
     "metadata": {},
     "output_type": "execute_result"
    }
   ],
   "source": [
    "def evenOrOdd(number):\n",
    "    return number % 2 == 0\n",
    "    \n",
    "lista = [1,2,3,4,5,6,7,8,9,10]\n",
    "filter(evenOrOdd,lista)\n"
   ]
  },
  {
   "cell_type": "markdown",
   "metadata": {},
   "source": [
    "8. Write a program which can map() to make a list whose elements are\n",
    "square of elements in [1,2,3,4,5,6,7,8,9,10].\n",
    "Hints:\n",
    "Use map() to generate a list.\n",
    "Use lambda to define anonymous functions."
   ]
  },
  {
   "cell_type": "code",
   "execution_count": 54,
   "metadata": {
    "collapsed": false
   },
   "outputs": [
    {
     "data": {
      "text/plain": [
       "[1, 4, 9, 16, 25, 36, 49, 64, 81, 100]"
      ]
     },
     "execution_count": 54,
     "metadata": {},
     "output_type": "execute_result"
    }
   ],
   "source": [
    "lista = [1, 2, 3, 4, 5, 6, 7, 8, 9 ,10]\n",
    "map(lambda x : x*x,lista)\n"
   ]
  },
  {
   "cell_type": "markdown",
   "metadata": {},
   "source": [
    "9. Write a program which can filter() to make a list whose elements are\n",
    "even number between 1 and 20 (both included).\n",
    "Hints:\n",
    "Use filter() to filter elements of a list. Use lambda to define anonymous\n",
    "functions."
   ]
  },
  {
   "cell_type": "code",
   "execution_count": 62,
   "metadata": {
    "collapsed": false
   },
   "outputs": [
    {
     "data": {
      "text/plain": [
       "[2, 4, 6, 8, 10, 12, 14, 16, 18, 20]"
      ]
     },
     "execution_count": 62,
     "metadata": {},
     "output_type": "execute_result"
    }
   ],
   "source": [
    "lista = range(0,200)\n",
    "x1 = lambda x : x % 2 == 0 and x >= 1 and x <= 20\n",
    "filter(x1,lista)\n"
   ]
  },
  {
   "cell_type": "markdown",
   "metadata": {},
   "source": [
    "10. Write a program that accepts a comma separated sequence of words\n",
    "as input and prints the words in a comma-separated sequence after\n",
    "sorting them alphabetically. Suppose the following input is supplied\n",
    "to the program: without,hello,bag,world Then, the output should be:\n",
    "bag,hello,without,world"
   ]
  },
  {
   "cell_type": "code",
   "execution_count": 72,
   "metadata": {
    "collapsed": false
   },
   "outputs": [
    {
     "name": "stdout",
     "output_type": "stream",
     "text": [
      "['zzzzz', 'hola', 'mucho', 'gusto', 'aaaaa']\n",
      "['aaaaa', 'gusto', 'hola', 'mucho', 'zzzzz']\n",
      "aaaaa,gusto,hola,mucho,zzzzz\n"
     ]
    }
   ],
   "source": [
    "sequence = \"zzzzz,hola,mucho,gusto,aaaaa\"\n",
    "sequenceList = sequence.split(\",\")\n",
    "print sequenceList\n",
    "sequenceList.sort()\n",
    "print sequenceList\n",
    "print \",\".join(sequenceList)"
   ]
  },
  {
   "cell_type": "markdown",
   "metadata": {},
   "source": [
    "Please write a program which accepts a string from console and print\n",
    "the characters that have even indexes.\n",
    "Example: If the following string is given as input to the program:\n",
    "H1e2l3l4o5w6o7r8l9d\n",
    "Then, the output of the program should be:\n",
    "Helloworld\n",
    "Hints: Use list[::2] to iterate a list by step 2."
   ]
  },
  {
   "cell_type": "code",
   "execution_count": 84,
   "metadata": {
    "collapsed": false
   },
   "outputs": [
    {
     "name": "stdout",
     "output_type": "stream",
     "text": [
      "Enter wordsqwerty\n",
      "qet\n"
     ]
    }
   ],
   "source": [
    "userInput = raw_input(\"Enter words\")\n",
    "print userInput[0::2]"
   ]
  },
  {
   "cell_type": "markdown",
   "metadata": {},
   "source": [
    "1. Write a program that accepts sequence of lines as input and prints the\n",
    "lines after making all characters in the sentence capitalized. Suppose\n",
    "the following input is supplied to the program:\n",
    "Hello world Practice makes perfect\n",
    "Then, the output should be: HELLO WORLD PRACTICE MAKES\n",
    "PERFECT\n",
    "Hints: Send the input string as a variable\n",
    "inputString = ”Hello World”\n",
    "convertToUpperCase(inputString)"
   ]
  },
  {
   "cell_type": "code",
   "execution_count": 87,
   "metadata": {
    "collapsed": false
   },
   "outputs": [
    {
     "name": "stdout",
     "output_type": "stream",
     "text": [
      "HELLO WORLD\n"
     ]
    }
   ],
   "source": [
    "inputString = \"Hello World\"\n",
    "print inputString.upper()"
   ]
  },
  {
   "cell_type": "markdown",
   "metadata": {},
   "source": [
    "2. Write a function that accepts a sequence of whitespace separated words\n",
    "as input and prints the words after removing all duplicate words and\n",
    "sorting them alphanumerically.\n",
    "Suppose the following input is supplied to the program:\n",
    "hello world and practice makes perfect and hello world again\n",
    "Then, the output should be:\n",
    "again and hello makes perfect practice world\n",
    "Hints:\n",
    "We use set to remove duplicated data automatically and then use\n",
    "sorted() to sort the data."
   ]
  },
  {
   "cell_type": "code",
   "execution_count": 100,
   "metadata": {
    "collapsed": false
   },
   "outputs": [
    {
     "name": "stdout",
     "output_type": "stream",
     "text": [
      "again and hello makes perfect practice world\n"
     ]
    }
   ],
   "source": [
    "inputString = \"hello world and practice makes perfect and hello world again\"\n",
    "inputList = inputString.split(\" \")\n",
    "inputList = sorted(set(inputList))\n",
    "print \" \".join(inputList)"
   ]
  },
  {
   "cell_type": "markdown",
   "metadata": {},
   "source": [
    "3. Write a program that accepts a sentence and calculate the number of\n",
    "letters and digits.\n",
    "Suppose the following input is supplied to the program:\n",
    "hello world! 123\n",
    "Then, the output should be:\n",
    "LETTERS 10\n",
    "DIGITS 3\n",
    "Hints: use functions isdigit and isalpha"
   ]
  },
  {
   "cell_type": "code",
   "execution_count": 111,
   "metadata": {
    "collapsed": false
   },
   "outputs": [
    {
     "name": "stdout",
     "output_type": "stream",
     "text": [
      "LETTERS  10\n",
      "DIGITS 3\n"
     ]
    }
   ],
   "source": [
    "numLetters = 0\n",
    "numDigits = 0\n",
    "inputString = \"hello world! 123\"\n",
    "for i in inputString:\n",
    "    if i.isdigit() is True:\n",
    "        numDigits += 1\n",
    "    elif i.isalpha() is True:\n",
    "        numLetters += 1\n",
    "print \"LETTERS \", numLetters\n",
    "print \"DIGITS\", numDigits"
   ]
  },
  {
   "cell_type": "markdown",
   "metadata": {},
   "source": [
    "4. Write a program that accepts a sentence and calculate the number of\n",
    "upper case letters and lower case letters. Suppose the following input\n",
    "is supplied to the program: Hello world! Then, the output should be:\n",
    "UPPER CASE 1 LOWER CASE 9\n",
    "Hints: use function isupper, islower"
   ]
  },
  {
   "cell_type": "code",
   "execution_count": 112,
   "metadata": {
    "collapsed": false
   },
   "outputs": [
    {
     "name": "stdout",
     "output_type": "stream",
     "text": [
      "UPPER  1\n",
      "LOWER 9\n"
     ]
    }
   ],
   "source": [
    "numLower = 0\n",
    "numUpper = 0\n",
    "inputString = \"Hello world!\"\n",
    "for i in inputString:\n",
    "    if i.isupper() is True:\n",
    "        numUpper += 1\n",
    "    elif i.islower() is True:\n",
    "        numLower += 1\n",
    "print \"UPPER \", numUpper\n",
    "print \"LOWER\", numLower"
   ]
  },
  {
   "cell_type": "markdown",
   "metadata": {},
   "source": [
    "Please generate a random float where the value is between 10 and 100\n",
    "using Python math module.\n",
    "Hints: Use random.random() to generate a random float in [0,1]."
   ]
  },
  {
   "cell_type": "code",
   "execution_count": 44,
   "metadata": {
    "collapsed": false
   },
   "outputs": [
    {
     "name": "stdout",
     "output_type": "stream",
     "text": [
      "25.28188603\n"
     ]
    }
   ],
   "source": [
    "import math\n",
    "import random\n",
    "print random.random()*100"
   ]
  },
  {
   "cell_type": "markdown",
   "metadata": {},
   "source": [
    "Please write a program to print the running time of execution of ”1+1”\n",
    "for 100 times.\n",
    "Hints: Use timeit() function to measure the running time."
   ]
  },
  {
   "cell_type": "code",
   "execution_count": 50,
   "metadata": {
    "collapsed": false
   },
   "outputs": [
    {
     "data": {
      "text/plain": [
       "1.3828277587890625e-05"
      ]
     },
     "execution_count": 50,
     "metadata": {},
     "output_type": "execute_result"
    }
   ],
   "source": [
    "import timeit\n",
    "timeit.timeit('1+1', number=100)"
   ]
  },
  {
   "cell_type": "markdown",
   "metadata": {},
   "source": [
    "Define a class named American and its subclass NewYorker.\n",
    "Hints:\n",
    "Use class Subclass(ParentClass) to define a subclass."
   ]
  },
  {
   "cell_type": "code",
   "execution_count": 90,
   "metadata": {
    "collapsed": false
   },
   "outputs": [
    {
     "name": "stdout",
     "output_type": "stream",
     "text": [
      "\tNewYorker1\n",
      "\tNewYorker2\n"
     ]
    }
   ],
   "source": [
    "class American:\n",
    "    def __init__(self):\n",
    "        self.members = ['Texas','California']\n",
    "        \n",
    "    def printStates(self):\n",
    "        for member in self.members:\n",
    "            print('\\t%s' %member)# -*- coding: utf-8 -*-\n",
    "  \n",
    "    \n",
    "class NewYorker(American):\n",
    "    def __init__(self):\n",
    "        self.members = ['NewYorker1','NewYorker2']\n",
    "        \n",
    "    def printMember(self):\n",
    "        for member in self.members:\n",
    "            print('\\t%s' %member)# -*- coding: utf-8 -*-\n",
    "  \n",
    "\n",
    "thing = NewYorker()\n",
    "thing.printMember()"
   ]
  },
  {
   "cell_type": "markdown",
   "metadata": {},
   "source": [
    "Define a class named Circle which can be constructed by a radius. The\n",
    "Circle class has a method which can compute the area.\n",
    "Hints:\n",
    "Use def methodName(self) to define a method."
   ]
  },
  {
   "cell_type": "code",
   "execution_count": 74,
   "metadata": {
    "collapsed": false
   },
   "outputs": [
    {
     "name": "stdout",
     "output_type": "stream",
     "text": [
      "Circle area:  314.16\n"
     ]
    }
   ],
   "source": [
    "class Circle:\n",
    "    radius = 0\n",
    "    def __init__(self,radius):\n",
    "        self.radius = radius\n",
    "    def area(self):\n",
    "        print \"Circle area: \", 3.1416*self.radius*self.radius\n",
    "\n",
    "circleObject = Circle(10)\n",
    "circleObject.area()"
   ]
  },
  {
   "cell_type": "markdown",
   "metadata": {},
   "source": [
    "Define a class named Rectangle which can be constructed by a length\n",
    "and width. The Rectangle class has a method which can compute the\n",
    "area.\n",
    "Hints:\n",
    "Use def methodName(self) to define a method."
   ]
  },
  {
   "cell_type": "code",
   "execution_count": 75,
   "metadata": {
    "collapsed": false
   },
   "outputs": [
    {
     "name": "stdout",
     "output_type": "stream",
     "text": [
      "Rectangle area:  200\n"
     ]
    }
   ],
   "source": [
    "class Rectangle:\n",
    "    length = 0\n",
    "    width = 0\n",
    "    def __init__(self,length,width):\n",
    "        self.length = length\n",
    "        self.width = width\n",
    "    def area(self):\n",
    "        print \"Rectangle area: \",self.length*self.width\n",
    "        \n",
    "rectangleObject = Rectangle(10,20)\n",
    "rectangleObject.area()"
   ]
  },
  {
   "cell_type": "markdown",
   "metadata": {},
   "source": [
    "Define a class named Shape and its subclass Square. The Square class\n",
    "has an init function which takes a length as argument. Both classes\n",
    "have a area function which can print the area of the shape where\n",
    "Shape’s area is 0 by default.\n",
    "Hints:\n",
    "To override a method in super class, we can define a method with the\n",
    "same name in the super class."
   ]
  },
  {
   "cell_type": "code",
   "execution_count": 20,
   "metadata": {
    "collapsed": false
   },
   "outputs": [
    {
     "name": "stdout",
     "output_type": "stream",
     "text": [
      "Calling child constructor\n",
      "Calling child area = 100\n"
     ]
    }
   ],
   "source": [
    "class Shape:        \n",
    "    area = 0\n",
    "    length = 0\n",
    "    def __init__(self):\n",
    "        print \"Calling parent constructor\"\n",
    "\n",
    "    def area(self):\n",
    "        print 'Calling parent area'\n",
    "\n",
    "class Square(Shape): \n",
    "    def __init__(self,length):\n",
    "        Shape.length = length\n",
    "        print \"Calling child constructor\"\n",
    "        \n",
    "    def area(self):\n",
    "        Shape.area = Shape.length * Shape.length\n",
    "        print 'Calling child area =', Shape.area\n",
    "\n",
    "\n",
    "shape = Square(10)\n",
    "shape.area()"
   ]
  },
  {
   "cell_type": "markdown",
   "metadata": {},
   "source": [
    "Define a class Person and its two child classes: Male and Female. All\n",
    "classes have a method ”getGender” which can print ”Male” for Male\n",
    "class and ”Female” for Female class.\n",
    "Hints: Use Subclass(Parentclass) to define a child class."
   ]
  },
  {
   "cell_type": "code",
   "execution_count": 34,
   "metadata": {
    "collapsed": false
   },
   "outputs": [
    {
     "name": "stdout",
     "output_type": "stream",
     "text": [
      "Calling parent constructor\n",
      "Male\n",
      "Calling parent constructor\n",
      "Female\n"
     ]
    }
   ],
   "source": [
    "class Person:        \n",
    "    def __init__(self):\n",
    "        print \"Calling parent constructor\"\n",
    "\n",
    "    def getGender(self):\n",
    "        print 'Calling parent method'\n",
    "\n",
    "class Male(Person):\n",
    "        \n",
    "    def getGender(self):\n",
    "        print 'Male'\n",
    "        \n",
    "class Female(Person):\n",
    "   \n",
    "    def getGender(self):\n",
    "        print 'Female'\n",
    "\n",
    "mann = Male()\n",
    "mann.getGender()\n",
    "frau = Female()\n",
    "frau.getGender()"
   ]
  },
  {
   "cell_type": "markdown",
   "metadata": {},
   "source": [
    "You are required to write a program to sort the (name, age, height)\n",
    "tuples by ascending order where name is string, age and height are\n",
    "numbers. The tuples are input by console. The sort criteria is:\n",
    "1: Sort based on name;\n",
    "2: Then sort based on age;\n",
    "3: Then sort by score.\n",
    "The priority is that name ¿ age ¿ score.\n",
    "If the following tuples are given as input to the program: [(’Tom’,’19’,’80’),\n",
    "(’John’,’20’,’90’), (’Jony’,’17’,’91’), (’Jony’,’17’,’93’), (’Json’,’21’,’85’)]\n",
    "Then, the output of the program should be:\n",
    "[(’John’, ’20’, ’90’), (’Jony’, ’17’, ’91’), (’Jony’, ’17’, ’93’), (’Json’, ’21’,\n",
    "’85’), (’Tom’, ’19’, ’80’)]\n",
    "Hints: We use itemgetter to enable multiple sort keys."
   ]
  },
  {
   "cell_type": "code",
   "execution_count": 81,
   "metadata": {
    "collapsed": false
   },
   "outputs": [
    {
     "name": "stdout",
     "output_type": "stream",
     "text": [
      "Enter name:John\n",
      "Enter age:20\n",
      "Enter height:90\n",
      "Enter name:Jony\n",
      "Enter age:17\n",
      "Enter height:91\n",
      "Enter name:Jony\n",
      "Enter age:17\n",
      "Enter height:93\n",
      "Enter name:Json\n",
      "Enter age:21\n",
      "Enter height:85\n",
      "Enter name:Tom\n",
      "Enter age:19\n",
      "Enter height:80\n",
      "Enter name:-q\n",
      "[('John', 20, 90), ('Jony', 17, 91), ('Jony', 17, 93), ('Json', 21, 85), ('Tom', 19, 80)]\n"
     ]
    },
    {
     "data": {
      "text/plain": [
       "[('John', 20, 90),\n",
       " ('Jony', 17, 91),\n",
       " ('Jony', 17, 93),\n",
       " ('Json', 21, 85),\n",
       " ('Tom', 19, 80)]"
      ]
     },
     "execution_count": 81,
     "metadata": {},
     "output_type": "execute_result"
    }
   ],
   "source": [
    "import operator\n",
    "studentTuples = []\n",
    "capture = ''\n",
    "while(capture != '-q'):\n",
    "    name = raw_input('Enter name:')\n",
    "    if name == '-q': \n",
    "        break\n",
    "    age = raw_input('Enter age:')\n",
    "    if age == '-q': \n",
    "        break\n",
    "    height = raw_input('Enter height:')\n",
    "    if height == '-q': \n",
    "        break\n",
    "    studentTuples.append((name,int(age),int(height)))\n",
    "\n",
    "print studentTuples\n",
    "\n",
    "sorted(studentTuples, key=operator.itemgetter(0,1,2))\n"
   ]
  },
  {
   "cell_type": "markdown",
   "metadata": {},
   "source": [
    "A robot moves in a plane starting from the original point (0,0). The\n",
    "robot can move toward UP, DOWN, LEFT and RIGHT with a given\n",
    "steps. The trace of robot movement is shown as the following:\n",
    "UP 5\n",
    "DOWN 3\n",
    "LEFT 3\n",
    "RIGHT 2\n",
    "The numbers after the direction are steps. Please write a program to\n",
    "compute the distance from current position after a sequence of move-\n",
    "ment and original point. If the distance is a float, then just print the\n",
    "nearest integer.\n",
    "Example: If the following tuples are given as input to the program:\n",
    "[(’UP’, 5), (’DOWN’, 3), (’LEFT’, 3), (’RIGHT’, 2)]\n",
    "Then, the output of the program should be:\n",
    "2"
   ]
  },
  {
   "cell_type": "code",
   "execution_count": 89,
   "metadata": {
    "collapsed": false
   },
   "outputs": [
    {
     "name": "stdout",
     "output_type": "stream",
     "text": [
      "2\n"
     ]
    }
   ],
   "source": [
    "import math\n",
    "\n",
    "def distance(start, finish):\n",
    "    result = math.trunc(math.sqrt(math.pow(start[0]-finish[0],2) + math.pow(start[1]-finish[1],2)))\n",
    "    return result\n",
    "    \n",
    "path = [('UP', 5), ('DOWN', 3), ('LEFT', 3), ('RIGHT', 2)]\n",
    "start = [0,0]\n",
    "finish = [0,0]\n",
    "for member in path:\n",
    "    if member[0] == 'UP':\n",
    "        finish[1] += member[1]\n",
    "    if member[0] == 'DOWN':\n",
    "        finish[1] -= member[1]\n",
    "    if member[0] == 'LEFT':\n",
    "        finish[0] -= member[1]    \n",
    "    if member[0] == 'RIGHT':\n",
    "        finish[0] += member[1]\n",
    "\n",
    "print distance(start,finish)"
   ]
  },
  {
   "cell_type": "markdown",
   "metadata": {},
   "source": [
    "Write a program to compute the frequency of the words from the in-\n",
    "put. The output should output after sorting the key alphanumerically.\n",
    "Suppose the following input is supplied to the program:\n",
    "New to Python or choosing between Python 2 and Python 3? Read\n",
    "Python 2 or Python 3."
   ]
  },
  {
   "cell_type": "code",
   "execution_count": 105,
   "metadata": {
    "collapsed": false
   },
   "outputs": [
    {
     "name": "stdout",
     "output_type": "stream",
     "text": [
      "2 2\n",
      "3. 1\n",
      "3? 1\n",
      "New 1\n",
      "Python 5\n",
      "Read 1\n",
      "and 1\n",
      "between 1\n",
      "choosing 1\n",
      "or 2\n",
      "to 1\n"
     ]
    }
   ],
   "source": [
    "inputString = \"New to Python or choosing between Python 2 and Python 3? Read Python 2 or Python 3.\"\n",
    "inputList = inputString.split(\" \")\n",
    "singlesList = sorted(set(inputList))\n",
    "\n",
    "for member in singlesList:\n",
    "    print member , inputList.count(member)"
   ]
  }
 ],
 "metadata": {
  "kernelspec": {
   "display_name": "Python 2",
   "language": "python",
   "name": "python2"
  },
  "language_info": {
   "codemirror_mode": {
    "name": "ipython",
    "version": 2
   },
   "file_extension": ".py",
   "mimetype": "text/x-python",
   "name": "python",
   "nbconvert_exporter": "python",
   "pygments_lexer": "ipython2",
   "version": "2.7.11"
  }
 },
 "nbformat": 4,
 "nbformat_minor": 0
}
